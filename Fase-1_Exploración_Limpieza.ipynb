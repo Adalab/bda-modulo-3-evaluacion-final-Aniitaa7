{
 "cells": [
  {
   "cell_type": "code",
   "execution_count": 1,
   "metadata": {},
   "outputs": [],
   "source": [
    "# Librerías:\n",
    "# ----------------------------------------------------------------------\n",
    "import pandas as pd\n",
    "import numpy as np\n",
    "\n",
    "# Visualización\n",
    "# -----------------------------------------------------------------------\n",
    "import seaborn as sns\n",
    "import matplotlib.pyplot as plt\n",
    "\n",
    "# Función de pandas para mostrar todas las columnas del DataFrame\n",
    "\n",
    "pd.set_option('display.max_columns', None)"
   ]
  },
  {
   "cell_type": "code",
   "execution_count": 2,
   "metadata": {},
   "outputs": [],
   "source": [
    "# Paso los CSV's a DataFrames para poder observar en una tabla las columnas y sus registros\n",
    "\n",
    "customer_flight = pd.read_csv('Customer Flight Activity.csv', index_col=0)\n",
    "customer_info = pd.read_csv('Customer Loyalty History.csv', index_col=0)"
   ]
  },
  {
   "cell_type": "markdown",
   "metadata": {},
   "source": [
    "# Fase 1: Exploración y Limpieza\n",
    "\n",
    "1. Exploración Inicial:\n",
    "   - Realiza una exploración inicial de los datos para identificar posibles problemas, como valores\n",
    " nulos, atípicos o datos faltantes en las columnas relevantes.\n",
    "   - Utiliza funciones de Pandas para obtener información sobre la estructura de los datos, la\n",
    " presencia de valores nulos y estadísticas básicas de las columnas involucradas.\n",
    "   - Une los dos conjuntos de datos de la forma más eficiente.\n",
    "\n",
    "2. Limpieza de Datos:\n",
    "   - Elimina o trata los valores nulos, si los hay, en las columnas clave para asegurar que los datos\n",
    " estén completos.\n",
    "   - Verifica la consistencia y corrección de los datos para asegurarte de que los datos se\n",
    " presenten de forma coherente.\n",
    "   - Realiza cualquier ajuste o conversión necesaria en las columnas (por ejemplo, cambiar tipos de\n",
    " datos) para garantizar la adecuación de los datos para el análisis estadístico."
   ]
  }
 ],
 "metadata": {
  "kernelspec": {
   "display_name": "Python 3",
   "language": "python",
   "name": "python3"
  },
  "language_info": {
   "codemirror_mode": {
    "name": "ipython",
    "version": 3
   },
   "file_extension": ".py",
   "mimetype": "text/x-python",
   "name": "python",
   "nbconvert_exporter": "python",
   "pygments_lexer": "ipython3",
   "version": "3.12.5"
  }
 },
 "nbformat": 4,
 "nbformat_minor": 2
}
